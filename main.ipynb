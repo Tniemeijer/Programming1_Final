{
 "cells": [
  {
   "cell_type": "markdown",
   "metadata": {},
   "source": [
    "![title](DATA/birds-nest-4-eggs.png)\n",
    "\n",
    "###### image:https://www.publicdomainpictures.net/nl/view-image.php?image=61631&picture=vogels-nest-4-eieren\n",
    "\n",
    "#   The effect of precipitation between march and july on the breeding of birds in the Netherlands 1990-2021 in changes compared to the year before.\n",
    "\n",
    "\n",
    "Sources:\n",
    "\n",
    "Dutch bird breeding per season (index):\n",
    "https://cdn.knmi.nl/knmi/map/page/klimatologie/gegevens/maandgegevens/mndgeg_260_rh24.txt\n",
    "\n",
    "Precipitation at the Bilt:\n",
    "https://opendata.cbs.nl/statline/#/CBS/nl/dataset/84498NED/table?ts=1673294982549"
   ]
  },
  {
   "cell_type": "code",
   "execution_count": 1,
   "metadata": {},
   "outputs": [],
   "source": [
    "#importing all necessary libraries\n",
    "import pandas as pd\n",
    "import functions_final_assignment as fn"
   ]
  },
  {
   "cell_type": "code",
   "execution_count": 2,
   "metadata": {},
   "outputs": [
    {
     "name": "stdout",
     "output_type": "stream",
     "text": [
      "DATA/mndgeg_260_rh24.txt\n"
     ]
    }
   ],
   "source": [
    "#loading in the files with a yaml config file\n",
    "config = fn.yaml_config()\n",
    "print(config[\"precipitation\"])"
   ]
  }
 ],
 "metadata": {
  "kernelspec": {
   "display_name": "Python 3.10.8 ('testenvironment')",
   "language": "python",
   "name": "python3"
  },
  "language_info": {
   "codemirror_mode": {
    "name": "ipython",
    "version": 3
   },
   "file_extension": ".py",
   "mimetype": "text/x-python",
   "name": "python",
   "nbconvert_exporter": "python",
   "pygments_lexer": "ipython3",
   "version": "3.10.8"
  },
  "orig_nbformat": 4,
  "vscode": {
   "interpreter": {
    "hash": "15931b5d0b1f46c7898b0adb0bc6446bb142ec6dd65b84f2c23802f32d57ca25"
   }
  }
 },
 "nbformat": 4,
 "nbformat_minor": 2
}
