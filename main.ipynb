{
 "cells": [
  {
   "attachments": {},
   "cell_type": "markdown",
   "metadata": {},
   "source": [
    "![title](birds-nest-4-eggs.png)\n",
    "\n",
    "###### image:https://www.publicdomainpictures.net/nl/view-image.php?image=61631&picture=vogels-nest-4-eieren\n",
    "\n",
    "#   The effect of precipitation between March and July on the breeding of birds in the Netherlands 1990-2020 in changes compared to the year before.\n",
    "\n",
    "Sources:\n",
    "\n",
    "Dutch bird breeding per season as percentage compared to indexyear (all years and all birds manually selected):\n",
    "https://opendata.cbs.nl/statline/#/CBS/nl/dataset/84498NED/table?ts=1673294982549\n",
    "\n",
    "Monthly sum of precipitation in 0.1 mm (ROYAL NETHERLANDS METEOROLOGICAL INSTITUTE):\n",
    "###### De Kooy: https://cdn.knmi.nl/knmi/map/page/klimatologie/gegevens/maandgegevens/mndgeg_235_rh24.txt\n",
    "###### De Bilt: https://cdn.knmi.nl/knmi/map/page/klimatologie/gegevens/maandgegevens/mndgeg_260_rh24.txt\n",
    "###### Leeuwarden: https://cdn.knmi.nl/knmi/map/page/klimatologie/gegevens/maandgegevens/mndgeg_270_rh24.txt\n",
    "###### Eelde: https://cdn.knmi.nl/knmi/map/page/klimatologie/gegevens/maandgegevens/mndgeg_280_rh24.txt\n",
    "###### Twenthe: https://cdn.knmi.nl/knmi/map/page/klimatologie/gegevens/maandgegevens/mndgeg_290_rh24.txt\n",
    "###### Schiphol: https://cdn.knmi.nl/knmi/map/page/klimatologie/gegevens/maandgegevens/mndgeg_240_rh24.txt\n",
    "###### Rotterdam: https://cdn.knmi.nl/knmi/map/page/klimatologie/gegevens/maandgegevens/mndgeg_344_rh24.txt\n",
    "###### Vlissingen: https://cdn.knmi.nl/knmi/map/page/klimatologie/gegevens/maandgegevens/mndgeg_310_rh24.txt\n",
    "###### Eindhoven: https://cdn.knmi.nl/knmi/map/page/klimatologie/gegevens/maandgegevens/mndgeg_370_rh24.txt\n",
    "###### Maastricht/Beek: https://cdn.knmi.nl/knmi/map/page/klimatologie/gegevens/maandgegevens/mndgeg_380_rh24.txt\n",
    "\n",
    "###### *Coordinates for the stations: http://climexp.knmi.nl/KNMIData/list_dx.txt\n",
    "###### *geojson for provinces: https://www.webuildinternet.com/articles/2015-07-19-geojson-data-of-the-netherlands/provinces.geojson\n",
    "\n",
    "\n",
    "\n",
    "\n"
   ]
  },
  {
   "cell_type": "code",
   "execution_count": null,
   "metadata": {},
   "outputs": [],
   "source": [
    "#Importing all necessary libraries\n",
    "import pandas as pd\n",
    "import functions_final_assignment as fn\n",
    "import numpy as np"
   ]
  },
  {
   "cell_type": "code",
   "execution_count": null,
   "metadata": {},
   "outputs": [],
   "source": [
    "#Loading in the files with a yaml config file\n",
    "config = fn.yaml_config()\n",
    "#Loading the data into a dataframe\n",
    "precipitation_df = fn.load_concat_df(config[\"precipitation\"])\n",
    "birds_df = pd.read_excel(io=config[\"breedingbirds\"],sheet_name=\"Provinciale trends 1990-2020\",skiprows=2)\n",
    "#loading a dataframe with the centerpoints of the provinces\n",
    "geo_df = fn.read_geojson(\"DATA/provinces.geojson\")\n",
    "geo_df.head(30)\n",
    "#getting the middle points of the provinces.\n",
    "geo_df[\"middle_point\"] = [fn.get_centerpoint(data) for data in geo_df[\"geometry.coordinates\"]]\n",
    "\n",
    "geo_df = geo_df[[\"properties.name\",\"middle_point\"]]\n",
    "\n",
    "# Every point except for the Y of Noord-brabant is calculated correctly, probably because of some encapulated regions\n",
    "#this needs to be overwritten. "
   ]
  },
  {
   "cell_type": "code",
   "execution_count": null,
   "metadata": {},
   "outputs": [],
   "source": [
    "geo_df.head(30)"
   ]
  },
  {
   "cell_type": "code",
   "execution_count": null,
   "metadata": {},
   "outputs": [],
   "source": [
    "#took the geographic mid point for brabant from google maps (its a monument)\n",
    "\n",
    "geo_df[\"middle_point\"].loc[6] = [51.562212646388495, 5.185266108595458]\n",
    "geo_df.head(7)"
   ]
  },
  {
   "cell_type": "code",
   "execution_count": null,
   "metadata": {},
   "outputs": [],
   "source": []
  },
  {
   "cell_type": "code",
   "execution_count": null,
   "metadata": {},
   "outputs": [],
   "source": [
    "precipitation_df.head(10)\n"
   ]
  },
  {
   "attachments": {},
   "cell_type": "markdown",
   "metadata": {},
   "source": [
    "The precipitation data starts well before 1990, as we only need the data between 1990 and 2020 we can get rid of most data.\n",
    "After that the amount of missing values may be calculated."
   ]
  },
  {
   "cell_type": "code",
   "execution_count": null,
   "metadata": {},
   "outputs": [],
   "source": [
    "#select only the rows with the values in the YYYY column between 1990 and 2020\n",
    "precipitation_df = precipitation_df[precipitation_df.YYYY.between(1990,2020)]\n",
    "#Show the unique values for YYYY to see if the YYYY filtering is done correctly\n",
    "print(f'{precipitation_df.YYYY.unique()}')\n"
   ]
  },
  {
   "cell_type": "code",
   "execution_count": null,
   "metadata": {},
   "outputs": [],
   "source": [
    "#Calculated the amount of missing values\n",
    "print(f'The amount of missing values are:\\n {precipitation_df.isnull().sum()}')\n"
   ]
  },
  {
   "cell_type": "code",
   "execution_count": null,
   "metadata": {},
   "outputs": [],
   "source": [
    "#convert all values to integers:\n",
    "\n",
    "precipitation_df = precipitation_df.astype(int)"
   ]
  },
  {
   "cell_type": "code",
   "execution_count": null,
   "metadata": {},
   "outputs": [],
   "source": [
    "#Adding the location at which the station is found to the dataframe\n",
    "stn_dict = fn.make_stn_dict(config[\"stn_coord\"])\n",
    "precipitation_df[\"COORD\"] = [stn_dict[str(s)] for s in precipitation_df.STN]\n",
    "precipitation_df.head()"
   ]
  },
  {
   "cell_type": "code",
   "execution_count": null,
   "metadata": {},
   "outputs": [],
   "source": [
    "#As we want to see the sum for precipitation between march and july\n",
    "#A column will be added\n",
    "precipitation_df[\"MAR-JUL\"] = precipitation_df.iloc[:,4:9].T.sum()\n",
    "precipitation_df = precipitation_df[[\"STN\",\"YYYY\",\"COORD\",\"MAR-JUL\"]]\n",
    "precipitation_df.head()"
   ]
  },
  {
   "cell_type": "code",
   "execution_count": null,
   "metadata": {},
   "outputs": [],
   "source": [
    "stn_df = precipitation_df[[\"STN\",\"COORD\"]]\n",
    "stn_df = stn_df.drop_duplicates(subset=[\"STN\"])\n",
    "\n",
    "\n",
    "for c, column in enumerate(geo_df[\"properties.name\"]):\n",
    "    stn_df[f'dist_{column}'] = [fn.calc_point_dist(geo_df.iloc[c,1],x) for x in stn_df[\"COORD\"]]\n",
    "\n",
    "# Calculates the distance (sum of coordinates) between the weatherstations and the middle point of the province.\n",
    "stn_df.head(12)"
   ]
  },
  {
   "attachments": {},
   "cell_type": "markdown",
   "metadata": {},
   "source": [
    "Most of the provinces have good coverage, however the province of Noord-Brabant is too far away from all the stations to predict the average precipitation there. \n"
   ]
  },
  {
   "cell_type": "code",
   "execution_count": null,
   "metadata": {},
   "outputs": [],
   "source": [
    "#plot to see if the rain in March and July is normally distributed\n",
    "#Also to see what the mean and deviation is. \n",
    "fn.hist_robust_dist(precipitation_df[\"MAR-JUL\"])"
   ]
  },
  {
   "cell_type": "markdown",
   "metadata": {},
   "source": [
    "There is some right skewedness as wheather extremes are not uncommon. A longer tail is observed in the data.\n",
    "Tried to fit a gamma distribution to adjust for the longer tail, but it was finicky to adjust."
   ]
  },
  {
   "cell_type": "code",
   "execution_count": null,
   "metadata": {},
   "outputs": [],
   "source": [
    "#New column with \"condition\" give the values higher than mu + sigma \"wet\" and mu - sigma as \"dry\", the rest (the middle) as \"normal\"\n",
    "mu = 2865\n",
    "sigma = 663.27\n",
    "lower_lim = mu - sigma\n",
    "upper_lim = mu + sigma\n",
    "\n",
    "precipitation_df[\"CONDITION\"] = [fn.validate_precipitation(i,lower_lim,upper_lim) for i in precipitation_df[\"MAR-JUL\"]]\n",
    "\n"
   ]
  },
  {
   "cell_type": "code",
   "execution_count": null,
   "metadata": {},
   "outputs": [],
   "source": [
    "#Print the amount of conditions seen in the dataframe\n",
    "\n",
    "dry_count = len(precipitation_df[precipitation_df[\"CONDITION\"]==\"dry\"])\n",
    "wet_count = len(precipitation_df[precipitation_df[\"CONDITION\"]==\"wet\"])\n",
    "normal_count = len(precipitation_df[precipitation_df[\"CONDITION\"]==\"normal\"])\n",
    "print(f'The amount of dry years: {dry_count}\\n'\n",
    "f'The amount of wet years: {wet_count}\\n'\n",
    "f'The amount of normal years: {normal_count}')"
   ]
  },
  {
   "cell_type": "code",
   "execution_count": null,
   "metadata": {},
   "outputs": [],
   "source": [
    "#and now prepare the data in the birds df:\n",
    "\n",
    "birds_df.head()"
   ]
  },
  {
   "attachments": {},
   "cell_type": "markdown",
   "metadata": {},
   "source": [
    "Some descriptives in the first three and in the last four columns we do not need. "
   ]
  },
  {
   "cell_type": "code",
   "execution_count": null,
   "metadata": {},
   "outputs": [],
   "source": [
    "#drop the first three and the last four columns\n",
    "birds_df = birds_df.iloc[:,3:-4]\n",
    "\n",
    "birds_df.head()"
   ]
  },
  {
   "cell_type": "code",
   "execution_count": null,
   "metadata": {},
   "outputs": [],
   "source": [
    "#change the values to delta precentage change\n",
    "\n",
    "birds_df = birds_df.T\n",
    "birds_df.head()\n",
    "\n"
   ]
  },
  {
   "cell_type": "code",
   "execution_count": null,
   "metadata": {},
   "outputs": [],
   "source": [
    "#replace the data with percentage change, with 1990 as 0. np.inf is converted to zero.\n",
    "birds_df.iloc[2:,2:] = birds_df.iloc[2:,2:].pct_change().replace({np.inf:0})\n",
    "birds_df.head(10)\n",
    "\n"
   ]
  }
 ],
 "metadata": {
  "kernelspec": {
   "display_name": "Python 3",
   "language": "python",
   "name": "python3"
  },
  "language_info": {
   "codemirror_mode": {
    "name": "ipython",
    "version": 3
   },
   "file_extension": ".py",
   "mimetype": "text/x-python",
   "name": "python",
   "nbconvert_exporter": "python",
   "pygments_lexer": "ipython3",
   "version": "3.10.8"
  },
  "orig_nbformat": 4,
  "vscode": {
   "interpreter": {
    "hash": "6b91fa5cffef32cb10787a50fea9666676a7951181e01280b4644cd70c964bf4"
   }
  }
 },
 "nbformat": 4,
 "nbformat_minor": 2
}
