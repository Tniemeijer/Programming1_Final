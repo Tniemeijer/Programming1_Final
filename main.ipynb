{
 "cells": [
  {
   "attachments": {},
   "cell_type": "markdown",
   "metadata": {},
   "source": [
    "![title](birds-nest-4-eggs.png)\n",
    "\n",
    "###### image:https://www.publicdomainpictures.net/nl/view-image.php?image=61631&picture=vogels-nest-4-eieren\n",
    "\n",
    "#   The effect of precipitation between March and July on the breeding of birds in the Netherlands 1990-2020 in changes compared to the year before.\n",
    "\n",
    "Sources:\n",
    "\n",
    "Dutch bird breeding per season as percentage compared to indexyear (all years and all birds manually selected):\n",
    "https://opendata.cbs.nl/statline/#/CBS/nl/dataset/84498NED/table?ts=1673294982549\n",
    "\n",
    "Monthly sum of precipitation in 0.1 mm (ROYAL NETHERLANDS METEOROLOGICAL INSTITUTE):\n",
    "###### De Kooy: https://cdn.knmi.nl/knmi/map/page/klimatologie/gegevens/maandgegevens/mndgeg_235_rh24.txt\n",
    "###### De Bilt: https://cdn.knmi.nl/knmi/map/page/klimatologie/gegevens/maandgegevens/mndgeg_260_rh24.txt\n",
    "###### Leeuwarden: https://cdn.knmi.nl/knmi/map/page/klimatologie/gegevens/maandgegevens/mndgeg_270_rh24.txt\n",
    "###### Eelde: https://cdn.knmi.nl/knmi/map/page/klimatologie/gegevens/maandgegevens/mndgeg_280_rh24.txt\n",
    "###### Twenthe: https://cdn.knmi.nl/knmi/map/page/klimatologie/gegevens/maandgegevens/mndgeg_290_rh24.txt\n",
    "###### Schiphol: https://cdn.knmi.nl/knmi/map/page/klimatologie/gegevens/maandgegevens/mndgeg_240_rh24.txt\n",
    "###### Rotterdam: https://cdn.knmi.nl/knmi/map/page/klimatologie/gegevens/maandgegevens/mndgeg_344_rh24.txt\n",
    "###### Vlissingen: https://cdn.knmi.nl/knmi/map/page/klimatologie/gegevens/maandgegevens/mndgeg_310_rh24.txt\n",
    "###### Eindhoven: https://cdn.knmi.nl/knmi/map/page/klimatologie/gegevens/maandgegevens/mndgeg_370_rh24.txt\n",
    "###### Maastricht/Beek: https://cdn.knmi.nl/knmi/map/page/klimatologie/gegevens/maandgegevens/mndgeg_380_rh24.txt\n",
    "\n",
    "Additional info:\n",
    "###### *Coordinates for the stations: http://climexp.knmi.nl/KNMIData/list_dx.txt\n",
    "###### *geojson for provinces: https://www.webuildinternet.com/articles/2015-07-19-geojson-data-of-the-netherlands/provinces.geojson\n",
    "\n",
    "\n",
    "\n",
    "\n"
   ]
  },
  {
   "cell_type": "code",
   "execution_count": null,
   "metadata": {},
   "outputs": [],
   "source": [
    "#Importing all necessary libraries\n",
    "import pandas as pd\n",
    "import functions_final_assignment as fn\n",
    "import numpy as np\n",
    "\n",
    "#Loading in the files with a yaml config file\n",
    "config = fn.yaml_config()\n",
    "\n",
    "#Loading the data into a dataframe\n",
    "precipitation_df = fn.load_concat_df(config[\"precipitation\"])\n",
    "\n",
    "birds_df = pd.read_excel(io=config[\"breedingbirds\"],\n",
    "           sheet_name=\"Provinciale trends 1990-2020\",skiprows=2)\n",
    "\n",
    "#loading a dataframe with the centerpoints of the provinces\n",
    "geo_df = fn.read_geojson(\"DATA/provinces.geojson\")"
   ]
  },
  {
   "cell_type": "markdown",
   "metadata": {},
   "source": [
    "## Weather Data preparation"
   ]
  },
  {
   "cell_type": "code",
   "execution_count": null,
   "metadata": {},
   "outputs": [],
   "source": [
    "\n",
    "#getting the middle points of the provinces.\n",
    "geo_df[\"middle_point\"] = [fn.get_centerpoint(data)\n",
    "                         for data\n",
    "                         in geo_df[\"geometry.coordinates\"]]\n",
    "\n",
    "geo_df = geo_df[[\"properties.name\",\"middle_point\"]]\n"
   ]
  },
  {
   "cell_type": "markdown",
   "metadata": {},
   "source": [
    "Every centroid except for that of Noord-brabant is calculated correctly,\n",
    "this could be due to some encapsulated regions. "
   ]
  },
  {
   "cell_type": "code",
   "execution_count": null,
   "metadata": {},
   "outputs": [],
   "source": [
    "#took the geographic mid point for brabant from google maps (its a monument)\n",
    "\n",
    "geo_df[\"middle_point\"].loc[6] = [51.562212646388495, 5.185266108595458]\n",
    "geo_df.head(7)"
   ]
  },
  {
   "attachments": {},
   "cell_type": "markdown",
   "metadata": {},
   "source": [
    "The precipitation data starts well before 1990, as we only need the data between 1990 and 2020 we can get rid of most data.\n",
    "After that the amount of missing values may be calculated."
   ]
  },
  {
   "cell_type": "code",
   "execution_count": null,
   "metadata": {},
   "outputs": [],
   "source": [
    "#select only the rows with the values in the YYYY column between 1990 and 2020\n",
    "precipitation_df = precipitation_df[precipitation_df.YYYY.between(1990,2020)]\n",
    "#Show the unique values for YYYY to see if the YYYY filtering is done correctly\n",
    "print(f'{precipitation_df.YYYY.unique()}')\n"
   ]
  },
  {
   "cell_type": "code",
   "execution_count": null,
   "metadata": {},
   "outputs": [],
   "source": [
    "#Calculated the amount of missing values\n",
    "print(f'The amount of missing values are:\\n {precipitation_df.isnull().sum()}')\n"
   ]
  },
  {
   "cell_type": "code",
   "execution_count": null,
   "metadata": {},
   "outputs": [],
   "source": [
    "#convert all values to integers:\n",
    "precipitation_df = precipitation_df.astype(int)\n",
    "\n",
    "#Adding the location at which the station is found to the dataframe\n",
    "stn_dict = fn.make_stn_dict(config[\"stn_coord\"])\n",
    "precipitation_df[\"COORD\"] = [stn_dict[str(s)] for s in precipitation_df.STN]\n",
    "precipitation_df.head()"
   ]
  },
  {
   "cell_type": "code",
   "execution_count": null,
   "metadata": {},
   "outputs": [],
   "source": [
    "#As we want to see the sum for precipitation between march and july\n",
    "#A column will be added\n",
    "precipitation_df[\"MAR-JUL\"] = precipitation_df.iloc[:,4:9].T.sum()\n",
    "precipitation_df = precipitation_df[[\"STN\",\"YYYY\",\"COORD\",\"MAR-JUL\"]]\n",
    "precipitation_df.head()"
   ]
  },
  {
   "cell_type": "code",
   "execution_count": null,
   "metadata": {},
   "outputs": [],
   "source": [
    "#plot to see if the rain in March and July is normally distributed\n",
    "#Also to see what the mean and deviation is. \n",
    "fn.hist_robust_dist(precipitation_df[\"MAR-JUL\"])"
   ]
  },
  {
   "cell_type": "markdown",
   "metadata": {},
   "source": [
    "There is some right skewedness as wheather extremes are not uncommon. But the data looks about distributed normally\n",
    "with a Q-Q plot we can check this. "
   ]
  },
  {
   "cell_type": "code",
   "execution_count": null,
   "metadata": {},
   "outputs": [],
   "source": [
    "fn.DS_Q_Q_Plot(precipitation_df[\"MAR-JUL\"])\n"
   ]
  },
  {
   "cell_type": "code",
   "execution_count": null,
   "metadata": {},
   "outputs": [],
   "source": [
    "stn_df = precipitation_df[[\"STN\",\"COORD\"]] # take the stn and coordinate columns\n",
    "stn_df = stn_df.drop_duplicates(subset=[\"STN\"])\n",
    "\n",
    "#calculate the distance from the middle of the provinces to the stations\n",
    "for c, column in enumerate(geo_df[\"properties.name\"]):\n",
    "    stn_df[column] = [fn.calc_point_dist(geo_df.iloc[c,1],x) \n",
    "                                for x  \n",
    "                                in stn_df[\"COORD\"]]\n",
    "\n",
    "#------Giving weight to the stations for different provinces:\n",
    "# Calculates the distance (sum of coordinates) between the weatherstations\n",
    "#  and the middle point of the province.\n",
    "# Now the ratios will be calculated (province/sum) and the distances will be\n",
    "#overwritten.\n",
    "for column in stn_df.columns[2:]:\n",
    "    #first the sum of the distances is calculated for a province\n",
    "    col_sum = stn_df[column].sum()\n",
    "    #The squared inverse is calculated 1/(distance to a station/sum of the distances) \n",
    "    stn_df[column] = [ (1/(i/col_sum)) for i in stn_df[column]]\n",
    "    #now the new sum is calculated\n",
    "    col_sum = stn_df[column].sum()\n",
    "    # now the final ratios/weights are calculated\n",
    "    stn_df[column] = [ (i/col_sum) for i in stn_df[column]]\n",
    "\n",
    "stn_df.head(12)"
   ]
  },
  {
   "cell_type": "code",
   "execution_count": null,
   "metadata": {},
   "outputs": [],
   "source": [
    "precipitation_df = precipitation_df.set_index(['YYYY','STN']).sort_index()\n",
    "\n",
    "precipitation_df = precipitation_df.drop(columns=\"COORD\")\n",
    "\n",
    "for i in stn_df.columns[2:]:\n",
    "    precipitation_df[i] = [precipitation_df[\"MAR-JUL\"].iloc[c]\n",
    "                           *\n",
    "                           stn_df[i].iloc[fn.get_position(c)]\n",
    "                           for \n",
    "                           c, year in enumerate(precipitation_df.index)]\n",
    "\n",
    "precipitation_df = precipitation_df.reset_index()\n",
    "precipitation_df = precipitation_df.drop(columns=[\"STN\",\"MAR-JUL\"])\n",
    "\n",
    "years = precipitation_df.YYYY.unique()\n",
    "\n",
    "def get_sum_precipitation():\n",
    "    dict_sum = {\"Years\":years}\n",
    "    for province in precipitation_df.columns[1:]:\n",
    "        sums = []\n",
    "        for year in years:\n",
    "            sums.append(sum(precipitation_df[province][precipitation_df[\"YYYY\"] == year]))\n",
    "        dict_sum.update({province:sums})\n",
    "    return dict_sum\n",
    "\n",
    "province_prec_df = pd.DataFrame(get_sum_precipitation())\n",
    "\n",
    "#Sorry Fenna:\n",
    "province_prec_df = province_prec_df.rename(columns={\"Friesland (Fryslân)\":\"Friesland\"})\n",
    "\n",
    "province_prec_df"
   ]
  },
  {
   "cell_type": "code",
   "execution_count": null,
   "metadata": {},
   "outputs": [],
   "source": [
    "import matplotlib.pyplot as plt\n",
    "import ipywidgets as pw\n",
    "\n",
    "prec_province_df = province_prec_df.copy()\n",
    "\n",
    "def plot(Province):\n",
    "    plt.bar(x=prec_province_df.Years,height=prec_province_df[Province])\n",
    "    plt.xlabel(\"Years\");plt.ylabel(\"Precipitation (in 0.1mm)\")\n",
    "    plt.title(f'Precipitation in {Province}');plt.xticks(years,rotation=90)\n",
    "\n",
    "prec_province = pw.interactive(plot,Province=prec_province_df.columns[1:])\n",
    "\n",
    "prec_province"
   ]
  },
  {
   "cell_type": "markdown",
   "metadata": {},
   "source": [
    "As seen in the interactive plots, 1996 is an exceptionally dry year. 2007 in contrast looks way wetter than average. "
   ]
  },
  {
   "cell_type": "markdown",
   "metadata": {},
   "source": [
    "## Birds Dataframe preparation"
   ]
  },
  {
   "cell_type": "code",
   "execution_count": null,
   "metadata": {},
   "outputs": [],
   "source": [
    "#and now prepare the data in the birds df:\n",
    "\n",
    "birds_df.head()"
   ]
  },
  {
   "attachments": {},
   "cell_type": "markdown",
   "metadata": {},
   "source": [
    "Some descriptives in the first three and in the last four columns we do not need. "
   ]
  },
  {
   "cell_type": "code",
   "execution_count": null,
   "metadata": {},
   "outputs": [],
   "source": [
    "#drop the first three and the last four columns\n",
    "birds_df = birds_df.iloc[:,3:-4]"
   ]
  },
  {
   "cell_type": "code",
   "execution_count": null,
   "metadata": {},
   "outputs": [],
   "source": [
    "#change the values to delta precentage change\n",
    "#replace the data with percentage change, with 1990 as 0. np.inf and -np.inf are converted to zero.\n",
    "birds_df = birds_df.T\n",
    "birds_df.iloc[2:,:] = birds_df.iloc[2:,:].pct_change().replace({np.inf:np.NaN,-np.inf:np.NaN})\n",
    "birds_df = birds_df.T.rename(columns={\"Provincie\":\"Province\"})\n",
    "birds_df = birds_df.rename(columns={x:int(x) for x in birds_df.columns[2:]})\n",
    "birds_df = birds_df.set_index(\"English name\")\n"
   ]
  },
  {
   "cell_type": "code",
   "execution_count": null,
   "metadata": {},
   "outputs": [],
   "source": [
    "birds_df = birds_df.reset_index().set_index([\"English name\",\"Province\"])\n",
    "birds_df = birds_df.T\n",
    "\n",
    "\n",
    "#list with all birds we need\n",
    "list_bird = [bird[0] for bird in birds_df.columns.unique()]\n",
    "list_birds = list(set(list_bird))\n",
    "#list with the provinces we need\n",
    "list_provinces = [bird[1] for bird in birds_df.columns.unique()]\n",
    "list_provinces = list(set(list_provinces))\n",
    "\n",
    "\n",
    "#First create a dictionary \n",
    "values = [province_prec_df[i] for i in list_provinces]\n",
    "values = [value for i in values for value in i]\n",
    "\n",
    "dict_for_df = {\"Precipitation\":values}\n",
    "\n",
    "\n",
    "for bird in list_birds:\n",
    "    bird_values = []\n",
    "    for province in list_provinces:\n",
    "        try: \n",
    "            b_val = [value for value in birds_df[bird,province]]\n",
    "            bird_values.append(b_val)\n",
    "        except:\n",
    "            n_val = [np.NaN for i in range(31)]\n",
    "            bird_values.append(n_val)\n",
    "    bird_values = [value for nested in bird_values for value in nested]\n",
    "    dict_for_df.update({bird:bird_values})\n",
    "\n",
    "filtered_df = pd.DataFrame(dict_for_df)\n",
    "\n",
    "# Some birds are very region specific, so we keep only the most common birds\n",
    "filtered_df = filtered_df.dropna(axis=1,thresh=300)\n",
    "\n",
    "filtered_df\n",
    "\n"
   ]
  },
  {
   "cell_type": "code",
   "execution_count": null,
   "metadata": {},
   "outputs": [],
   "source": [
    "#correlate different precipitation conditions with the birds\n",
    "\n",
    "import numpy as np\n",
    "import pandas as pd\n",
    "import seaborn as sns\n",
    "import matplotlib.pyplot as plt\n",
    "\n",
    "\n",
    "ranges = [int(i) for i in np.linspace(1000,5000,5)]\n",
    "\n",
    "#Function to create a dataframe with correlations based on precipitation\n",
    "def make_prec_corr(dataframe):\n",
    "    corr = pd.DataFrame()\n",
    "    for i in range(4):\n",
    "        precipitation = dataframe.copy()\n",
    "        precipitation = precipitation[precipitation[\"Precipitation\"].between(ranges[i],ranges[i+1])]\n",
    "        precipitation = precipitation.rename(columns={\"Precipitation\":f\"{ranges[i]}-{ranges[i+1]}\"})\n",
    "        precipitation = precipitation.corrwith(precipitation[f\"{ranges[i]}-{ranges[i+1]}\"])\n",
    "        corr[f\"{ranges[i]}-{ranges[i+1]}\"] = precipitation\n",
    "    return corr.iloc[1:]\n",
    "\n",
    "\n",
    "\n",
    "corr = make_prec_corr(filtered_df)\n",
    "\n",
    "#filter based on \n",
    "\n",
    "# Set up the matplotlib figure\n",
    "f, ax = plt.subplots(figsize=(5, 8))\n",
    "\n",
    "#Generate a custom diverging colormap\n",
    "cmap = sns.diverging_palette(20, 200, as_cmap=True)\n",
    "\n",
    "# Draw the heatmap with the mask and correct aspect ratio\n",
    "sns.heatmap(corr, cmap=cmap, center=0, cbar_kws={\"shrink\": .4})\n",
    "ax.set_xlabel(\"Precipitation (*0.1mm)\")\n",
    "ax.set_title(\"The effect of precipitation on breeding birds\")\n"
   ]
  }
 ],
 "metadata": {
  "kernelspec": {
   "display_name": "Python 3.10.8 ('testenvironment')",
   "language": "python",
   "name": "python3"
  },
  "language_info": {
   "codemirror_mode": {
    "name": "ipython",
    "version": 3
   },
   "file_extension": ".py",
   "mimetype": "text/x-python",
   "name": "python",
   "nbconvert_exporter": "python",
   "pygments_lexer": "ipython3",
   "version": "3.10.8"
  },
  "orig_nbformat": 4,
  "vscode": {
   "interpreter": {
    "hash": "15931b5d0b1f46c7898b0adb0bc6446bb142ec6dd65b84f2c23802f32d57ca25"
   }
  }
 },
 "nbformat": 4,
 "nbformat_minor": 2
}
